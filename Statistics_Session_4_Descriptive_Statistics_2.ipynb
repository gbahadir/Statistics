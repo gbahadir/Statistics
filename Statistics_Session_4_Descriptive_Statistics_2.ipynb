{
 "cells": [
  {
   "cell_type": "markdown",
   "id": "53446b45",
   "metadata": {
    "id": "53446b45"
   },
   "source": [
    "## Import Libraries"
   ]
  },
  {
   "cell_type": "code",
   "execution_count": 1,
   "id": "f04c11a6",
   "metadata": {
    "id": "f04c11a6"
   },
   "outputs": [],
   "source": [
    "import numpy as np\n",
    "import pandas as pd\n",
    "from scipy import stats\n",
    "import matplotlib.pyplot as plt\n",
    "import seaborn as sns"
   ]
  },
  {
   "cell_type": "markdown",
   "id": "7f64dbd8",
   "metadata": {
    "id": "7f64dbd8"
   },
   "source": [
    "## Data"
   ]
  },
  {
   "cell_type": "code",
   "execution_count": 2,
   "id": "bbbc1110",
   "metadata": {
    "id": "bbbc1110"
   },
   "outputs": [],
   "source": [
    "happiness_score = [2.69,5.00,5.04,5.79,5.06,7.18,7.40,5.17,4.50,5.23,6.89,5.82,5.92,5.89,3.46,6.19,5.10,4.93,3.78,5.12,5.25,\n",
    "                   7.18, 4.49,6.44,5.13,5.98,3.97,5.49,7.14,5.54,7.03,7.65,5.43,6.13,4.01,6.28,6.09,4.38,7.86,6.67,4.78,4.92,\n",
    "                   4.66,7.12,5.41,6.63,5.25, 3.61,5.91,3.82,5.34,4.28,6.96,6.93,6.52,5.27,5.79,4.64,6.01,4.66,5.30,4.86,5.90,\n",
    "                   5.17,4.13,6.31,7.24,5.24,4.07,3.33,5.34,4.42,4.31,5.88,6.55,5.68,5.46,5.65,4.90,4.65,4.41,4.83,4.91,7.46,\n",
    "                   7.37,5.82,5.16,5.25,7.44,5.47,6.28,5.68,5.87,5.92,6.15,5.51,3.56,6.36,4.77,5.94,4.31,6.24,6.25,4.88,\n",
    "                   5.84,6.51,4.40,7.37,7.51,3.45,6.01,4.02,4.74,5.19,4.62,4.32,4.66,6.60,7.23,6.88,6.37,6.21,5.01,5.30,\n",
    "                   4.04,3.62]\n",
    "\n",
    "life_exp = [52.60,68.70,65.90,68.80,66.90,73.60,73.00,65.50,64.30,66.10,72.00,54.30,63.60,67.80,58.90,66.40,66.80,\n",
    "            53.90,53.40,61.60,52.70,73.60,48.20,69.90,69.30,67.70,57.20,57.90,71.30,70.20,70.30,72.40,65.80, 68.50,\n",
    "            61.70,66.10,68.60,58.50,71.90,73.80,59.70,55.00,64.50,72.20,72.40,64.80,54.40,55.70,67.20,60.10,62.10,66.00,\n",
    "            72.30,73.30,73.60,49.50,75.00,66.80,64.60,60.10,64.10,58.70,66.80,67.10,56.10, 67.30,72.60,67.50,59.10,57.60,\n",
    "            67.00,51.70,57.00,66.40,68.30,65.00,62.30,68.50,65.90,54.20,59.00,56.50,63.50,72.30,73.20,67.50,53.50,49.70,\n",
    "            73.20,58.50,69.60,68.10,61.90,72.40,67.20,64.30,61.10, 66.30,59.60,68.20,50.80,68.90,71.10,56.50,73.60,\n",
    "            74.40,67.20,72.60,74.10,57.50,67.20,54.70,66.90,66.80,62.20,55.70,64.60,67.10,72.30,68.30,69.00,65.10,66.50,\n",
    "            67.90,55.30,55.60]"
   ]
  },
  {
   "cell_type": "markdown",
   "id": "ddd4ba9b",
   "metadata": {
    "id": "ddd4ba9b"
   },
   "source": [
    "## Descriptive Statistics"
   ]
  },
  {
   "cell_type": "code",
   "execution_count": 3,
   "id": "nP4S6jacgCMN",
   "metadata": {
    "colab": {
     "base_uri": "https://localhost:8080/"
    },
    "id": "nP4S6jacgCMN",
    "outputId": "b7aa7768-4946-49bf-8b17-ef2d43d3abde"
   },
   "outputs": [
    {
     "data": {
      "text/plain": [
       "list"
      ]
     },
     "execution_count": 3,
     "metadata": {},
     "output_type": "execute_result"
    }
   ],
   "source": [
    "type(life_exp)"
   ]
  },
  {
   "cell_type": "markdown",
   "id": "4e054998",
   "metadata": {
    "id": "4e054998"
   },
   "source": [
    "### Central Tendency"
   ]
  },
  {
   "cell_type": "code",
   "execution_count": 4,
   "id": "12245851",
   "metadata": {
    "colab": {
     "base_uri": "https://localhost:8080/"
    },
    "id": "12245851",
    "outputId": "1b5f84bc-9662-48ab-9d92-f4af82faa46a"
   },
   "outputs": [
    {
     "data": {
      "text/plain": [
       "64.52142857142859"
      ]
     },
     "execution_count": 4,
     "metadata": {},
     "output_type": "execute_result"
    }
   ],
   "source": [
    "np.mean(life_exp)"
   ]
  },
  {
   "cell_type": "code",
   "execution_count": 5,
   "id": "1e9adb23",
   "metadata": {
    "colab": {
     "base_uri": "https://localhost:8080/"
    },
    "id": "1e9adb23",
    "outputId": "bb419a6b-1cc1-48fb-d3c5-31db3d9f1b9e"
   },
   "outputs": [
    {
     "data": {
      "text/plain": [
       "66.35"
      ]
     },
     "execution_count": 5,
     "metadata": {},
     "output_type": "execute_result"
    }
   ],
   "source": [
    "np.median(life_exp)"
   ]
  },
  {
   "cell_type": "code",
   "execution_count": 6,
   "id": "12566a1b",
   "metadata": {
    "colab": {
     "base_uri": "https://localhost:8080/"
    },
    "id": "12566a1b",
    "outputId": "e1821d17-aae7-492e-8d5f-5c8e32c2fc37"
   },
   "outputs": [
    {
     "data": {
      "text/plain": [
       "ModeResult(mode=array([66.8]), count=array([4]))"
      ]
     },
     "execution_count": 6,
     "metadata": {},
     "output_type": "execute_result"
    }
   ],
   "source": [
    "stats.mode(life_exp)"
   ]
  },
  {
   "cell_type": "code",
   "execution_count": 7,
   "id": "f517c284-853a-4305-a3de-9119aa554d61",
   "metadata": {},
   "outputs": [
    {
     "data": {
      "text/plain": [
       "5.499523809523809"
      ]
     },
     "execution_count": 7,
     "metadata": {},
     "output_type": "execute_result"
    }
   ],
   "source": [
    "np.mean(happiness_score)"
   ]
  },
  {
   "cell_type": "code",
   "execution_count": 8,
   "id": "1837c0a6-cfe1-4521-a1fe-081fc2769ea5",
   "metadata": {},
   "outputs": [
    {
     "data": {
      "text/plain": [
       "5.42"
      ]
     },
     "execution_count": 8,
     "metadata": {},
     "output_type": "execute_result"
    }
   ],
   "source": [
    "np.median(happiness_score)"
   ]
  },
  {
   "cell_type": "code",
   "execution_count": 9,
   "id": "9e34556e-5448-4649-84ce-ff756abe90d1",
   "metadata": {},
   "outputs": [
    {
     "data": {
      "text/plain": [
       "ModeResult(mode=array([4.66]), count=array([3]))"
      ]
     },
     "execution_count": 9,
     "metadata": {},
     "output_type": "execute_result"
    }
   ],
   "source": [
    "stats.mode(happiness_score)"
   ]
  },
  {
   "cell_type": "markdown",
   "id": "0dad6ba8",
   "metadata": {
    "id": "0dad6ba8"
   },
   "source": [
    "### Dispersion"
   ]
  },
  {
   "cell_type": "code",
   "execution_count": 10,
   "id": "64eb178f",
   "metadata": {
    "colab": {
     "base_uri": "https://localhost:8080/"
    },
    "id": "64eb178f",
    "outputId": "de005ad5-26c9-4893-cb93-8b0f426cb3bb"
   },
   "outputs": [
    {
     "data": {
      "text/plain": [
       "44.22819160997732"
      ]
     },
     "execution_count": 10,
     "metadata": {},
     "output_type": "execute_result"
    }
   ],
   "source": [
    "np.var(life_exp)"
   ]
  },
  {
   "cell_type": "code",
   "execution_count": 11,
   "id": "6c277622",
   "metadata": {
    "colab": {
     "base_uri": "https://localhost:8080/"
    },
    "id": "6c277622",
    "outputId": "e1718019-24dc-4faf-8935-754a3e205870"
   },
   "outputs": [
    {
     "data": {
      "text/plain": [
       "6.6504279268312745"
      ]
     },
     "execution_count": 11,
     "metadata": {},
     "output_type": "execute_result"
    }
   ],
   "source": [
    "np.std(life_exp) # standart sapma"
   ]
  },
  {
   "cell_type": "code",
   "execution_count": 12,
   "id": "c37a5552-8b4a-424f-ab93-ef10f7bdc76f",
   "metadata": {},
   "outputs": [
    {
     "data": {
      "text/plain": [
       "1.0940139121187158"
      ]
     },
     "execution_count": 12,
     "metadata": {},
     "output_type": "execute_result"
    }
   ],
   "source": [
    "np.std(happiness_score)"
   ]
  },
  {
   "cell_type": "code",
   "execution_count": 13,
   "id": "f51fe072-e844-48d2-bb84-ac4936ec019a",
   "metadata": {},
   "outputs": [
    {
     "data": {
      "text/plain": [
       "1.196866439909297"
      ]
     },
     "execution_count": 13,
     "metadata": {},
     "output_type": "execute_result"
    }
   ],
   "source": [
    "np.var(happiness_score)"
   ]
  },
  {
   "cell_type": "code",
   "execution_count": 14,
   "id": "6e4d14cf",
   "metadata": {
    "colab": {
     "base_uri": "https://localhost:8080/"
    },
    "id": "6e4d14cf",
    "outputId": "842d5357-617e-4014-9050-5724441bcf77"
   },
   "outputs": [
    {
     "data": {
      "text/plain": [
       "59.025"
      ]
     },
     "execution_count": 14,
     "metadata": {},
     "output_type": "execute_result"
    }
   ],
   "source": [
    "q1 = np.percentile(life_exp, 25) #datanin %25 i sonuc(59) dan dusuk degerler demektir\n",
    "q1"
   ]
  },
  {
   "cell_type": "code",
   "execution_count": 15,
   "id": "601fad89",
   "metadata": {
    "colab": {
     "base_uri": "https://localhost:8080/"
    },
    "id": "601fad89",
    "outputId": "0b52eeb2-d643-4edb-cb43-0809dc1ff34a"
   },
   "outputs": [
    {
     "data": {
      "text/plain": [
       "68.875"
      ]
     },
     "execution_count": 15,
     "metadata": {},
     "output_type": "execute_result"
    }
   ],
   "source": [
    "q3 = np.percentile(life_exp, 75)\n",
    "q3"
   ]
  },
  {
   "cell_type": "code",
   "execution_count": 16,
   "id": "907e1d98",
   "metadata": {
    "colab": {
     "base_uri": "https://localhost:8080/"
    },
    "id": "907e1d98",
    "outputId": "624496d5-e15f-41d6-8a3c-696f5d41e57b"
   },
   "outputs": [
    {
     "data": {
      "text/plain": [
       "9.850000000000001"
      ]
     },
     "execution_count": 16,
     "metadata": {},
     "output_type": "execute_result"
    }
   ],
   "source": [
    "stats.iqr(life_exp)"
   ]
  },
  {
   "cell_type": "code",
   "execution_count": null,
   "id": "5f54c9c6",
   "metadata": {
    "id": "5f54c9c6",
    "outputId": "0b7d6036-fb13-49f8-fcb9-ec5dca688249"
   },
   "outputs": [
    {
     "data": {
      "text/plain": [
       "48.2"
      ]
     },
     "execution_count": 17,
     "metadata": {},
     "output_type": "execute_result"
    }
   ],
   "source": [
    "np.min(life_exp)"
   ]
  },
  {
   "cell_type": "code",
   "execution_count": null,
   "id": "7a22c657",
   "metadata": {
    "id": "7a22c657",
    "outputId": "a589fef7-a3dd-4018-ebbd-0be2944fee43"
   },
   "outputs": [
    {
     "data": {
      "text/plain": [
       "75.0"
      ]
     },
     "execution_count": 18,
     "metadata": {},
     "output_type": "execute_result"
    }
   ],
   "source": [
    "np.max(life_exp)"
   ]
  },
  {
   "cell_type": "code",
   "execution_count": 17,
   "id": "baf53cd2-958c-4b1e-a33a-3238c2ae35dc",
   "metadata": {},
   "outputs": [
    {
     "data": {
      "text/plain": [
       "4.7475000000000005"
      ]
     },
     "execution_count": 17,
     "metadata": {},
     "output_type": "execute_result"
    }
   ],
   "source": [
    "q1 = np.percentile(happiness_score, 25)\n",
    "q1"
   ]
  },
  {
   "cell_type": "code",
   "execution_count": 18,
   "id": "82585cd4-7769-4630-bbfd-513a3ff732f8",
   "metadata": {},
   "outputs": [
    {
     "data": {
      "text/plain": [
       "6.2475000000000005"
      ]
     },
     "execution_count": 18,
     "metadata": {},
     "output_type": "execute_result"
    }
   ],
   "source": [
    "q3 = np.percentile(happiness_score, 75)\n",
    "q3"
   ]
  },
  {
   "cell_type": "code",
   "execution_count": 19,
   "id": "cccfbf70-e2c6-43ff-a63d-014bdd24590d",
   "metadata": {},
   "outputs": [
    {
     "data": {
      "text/plain": [
       "1.5"
      ]
     },
     "execution_count": 19,
     "metadata": {},
     "output_type": "execute_result"
    }
   ],
   "source": [
    "stats.iqr(happiness_score)"
   ]
  },
  {
   "cell_type": "code",
   "execution_count": 24,
   "id": "54eb4220-f08e-4ec6-a72d-f8dcddd3ee7e",
   "metadata": {},
   "outputs": [
    {
     "data": {
      "text/plain": [
       "1.5"
      ]
     },
     "execution_count": 24,
     "metadata": {},
     "output_type": "execute_result"
    }
   ],
   "source": [
    "q3,q1 = np.percentile(happiness_score, [75 ,25])\n",
    "iqr = q3 - q1\n",
    "iqr"
   ]
  },
  {
   "cell_type": "code",
   "execution_count": 20,
   "id": "2e33bc6b-946c-4681-b6e8-9add7212fde7",
   "metadata": {},
   "outputs": [
    {
     "data": {
      "text/plain": [
       "2.69"
      ]
     },
     "execution_count": 20,
     "metadata": {},
     "output_type": "execute_result"
    }
   ],
   "source": [
    "np.min(happiness_score)"
   ]
  },
  {
   "cell_type": "code",
   "execution_count": 21,
   "id": "192e2edf-4465-4a64-9420-817d77355654",
   "metadata": {},
   "outputs": [
    {
     "data": {
      "text/plain": [
       "7.86"
      ]
     },
     "execution_count": 21,
     "metadata": {},
     "output_type": "execute_result"
    }
   ],
   "source": [
    "np.max(happiness_score)"
   ]
  },
  {
   "cell_type": "markdown",
   "id": "33596855",
   "metadata": {
    "id": "33596855"
   },
   "source": [
    "### Shape"
   ]
  },
  {
   "cell_type": "code",
   "execution_count": null,
   "id": "bc8934f7",
   "metadata": {
    "id": "bc8934f7",
    "outputId": "75dac30a-c18a-4e04-e1c0-ea4aa5cce04b"
   },
   "outputs": [
    {
     "data": {
      "text/plain": [
       "-0.507998161416463"
      ]
     },
     "execution_count": 19,
     "metadata": {},
     "output_type": "execute_result"
    }
   ],
   "source": [
    "stats.skew(life_exp)  #skewness"
   ]
  },
  {
   "cell_type": "code",
   "execution_count": null,
   "id": "cd481956",
   "metadata": {
    "id": "cd481956",
    "outputId": "dee747b4-23f9-4f6c-f1ce-ba5e370413f1"
   },
   "outputs": [
    {
     "data": {
      "text/plain": [
       "-0.7040394620922208"
      ]
     },
     "execution_count": 20,
     "metadata": {},
     "output_type": "execute_result"
    }
   ],
   "source": [
    "stats.kurtosis(life_exp)"
   ]
  },
  {
   "cell_type": "markdown",
   "id": "0a9ed103",
   "metadata": {
    "id": "0a9ed103"
   },
   "source": [
    "## Histogram"
   ]
  },
  {
   "cell_type": "code",
   "execution_count": 22,
   "id": "09161783",
   "metadata": {
    "id": "09161783",
    "outputId": "b7c99abd-09a9-49d2-efe2-c34e4cce3f7a"
   },
   "outputs": [
    {
     "data": {
      "image/png": "[encoded data removed]",
      "text/plain": [
       "<Figure size 432x288 with 1 Axes>"
      ]
     },
     "metadata": {
      "needs_background": "light"
     },
     "output_type": "display_data"
    }
   ],
   "source": [
    "# Create a histogram of life_exp and show\n",
    "plt.hist(life_exp)\n",
    "\n",
    "# Show plot\n",
    "plt.show()"
   ]
  },
  {
   "cell_type": "code",
   "execution_count": 25,
   "id": "85160981",
   "metadata": {
    "id": "85160981",
    "outputId": "fa372d0b-6c50-4b52-a557-81bf08613854"
   },
   "outputs": [
    {
     "data": {
      "image/png": "[encoded data removed]",
      "text/plain": [
       "<Figure size 432x288 with 1 Axes>"
      ]
     },
     "metadata": {
      "needs_background": "light"
     },
     "output_type": "display_data"
    }
   ],
   "source": [
    "sns.kdeplot(life_exp)\n",
    "plt.show()"
   ]
  },
  {
   "cell_type": "markdown",
   "id": "4b581a5c",
   "metadata": {
    "id": "4b581a5c"
   },
   "source": [
    "# Scatter Plot"
   ]
  },
  {
   "cell_type": "code",
   "execution_count": 26,
   "id": "c7ba8160",
   "metadata": {
    "id": "c7ba8160",
    "outputId": "d74cf038-6660-48b1-fd3d-56d55a8e6317"
   },
   "outputs": [
    {
     "data": {
      "image/png": "[encoded data removed]",
      "text/plain": [
       "<Figure size 432x288 with 1 Axes>"
      ]
     },
     "metadata": {
      "needs_background": "light"
     },
     "output_type": "display_data"
    }
   ],
   "source": [
    "# Create a scatterplot of happiness_score vs. life_exp and show\n",
    "sns.scatterplot(x=life_exp, y=happiness_score)\n",
    "\n",
    "# Show plot\n",
    "plt.show()"
   ]
  },
  {
   "cell_type": "code",
   "execution_count": 43,
   "id": "046a76e5-ad31-4290-a44b-73203c0c89ff",
   "metadata": {},
   "outputs": [
    {
     "name": "stderr",
     "output_type": "stream",
     "text": [
      "C:\\Users\\gbaha\\anaconda3\\lib\\site-packages\\seaborn\\_decorators.py:36: FutureWarning: Pass the following variables as keyword args: x, y. From version 0.12, the only valid positional argument will be `data`, and passing other arguments without an explicit keyword will result in an error or misinterpretation.\n",
      "  warnings.warn(\n"
     ]
    },
    {
     "data": {
      "image/png": "[encoded data removed]",
      "text/plain": [
       "<Figure size 432x288 with 1 Axes>"
      ]
     },
     "metadata": {
      "needs_background": "light"
     },
     "output_type": "display_data"
    }
   ],
   "source": [
    "sns.regplot(life_exp,happiness_score);"
   ]
  },
  {
   "cell_type": "markdown",
   "id": "037ca866",
   "metadata": {
    "id": "037ca866"
   },
   "source": [
    "## Correlation"
   ]
  },
  {
   "cell_type": "code",
   "execution_count": 28,
   "id": "fefaca11",
   "metadata": {
    "colab": {
     "base_uri": "https://localhost:8080/"
    },
    "id": "fefaca11",
    "outputId": "cda80cde-0283-478e-abe3-bd2b4f5c0e04"
   },
   "outputs": [
    {
     "data": {
      "text/plain": [
       "0.7406268830335518"
      ]
     },
     "execution_count": 28,
     "metadata": {},
     "output_type": "execute_result"
    }
   ],
   "source": [
    "r, p = stats.pearsonr(happiness_score, life_exp)\n",
    "r"
   ]
  },
  {
   "cell_type": "code",
   "execution_count": 29,
   "id": "xT6UCfLeuf5G",
   "metadata": {
    "colab": {
     "base_uri": "https://localhost:8080/"
    },
    "id": "xT6UCfLeuf5G",
    "outputId": "8f914b32-7f2c-4f50-e7c8-f51fe09ca36b"
   },
   "outputs": [
    {
     "data": {
      "text/plain": [
       "3.7073323489745573e-23"
      ]
     },
     "execution_count": 29,
     "metadata": {},
     "output_type": "execute_result"
    }
   ],
   "source": [
    "p"
   ]
  },
  {
   "cell_type": "code",
   "execution_count": 31,
   "id": "00fba300",
   "metadata": {
    "id": "00fba300",
    "outputId": "dde56033-d191-416d-abc3-78fff7a2344e"
   },
   "outputs": [
    {
     "data": {
      "text/plain": [
       "SpearmanrResult(correlation=0.7712877029752038, pvalue=4.3121609782706506e-26)"
      ]
     },
     "execution_count": 31,
     "metadata": {},
     "output_type": "execute_result"
    }
   ],
   "source": [
    "stats.spearmanr(happiness_score, life_exp)"
   ]
  },
  {
   "cell_type": "code",
   "execution_count": 32,
   "id": "5ee0d5a5",
   "metadata": {
    "id": "5ee0d5a5",
    "outputId": "52088aaf-46bd-418a-d7f0-649202f137e5"
   },
   "outputs": [
    {
     "data": {
      "text/plain": [
       "KendalltauResult(correlation=0.5653841906249265, pvalue=8.286382802858583e-21)"
      ]
     },
     "execution_count": 32,
     "metadata": {},
     "output_type": "execute_result"
    }
   ],
   "source": [
    "stats.kendalltau(happiness_score, life_exp)"
   ]
  },
  {
   "cell_type": "code",
   "execution_count": 33,
   "id": "f75991a1",
   "metadata": {
    "id": "f75991a1",
    "outputId": "626aad3f-e4bc-4ab4-c1ac-5ba8a4b0cd06"
   },
   "outputs": [
    {
     "data": {
      "text/plain": [
       "array([[1.        , 0.74062688],\n",
       "       [0.74062688, 1.        ]])"
      ]
     },
     "execution_count": 33,
     "metadata": {},
     "output_type": "execute_result"
    }
   ],
   "source": [
    "np.corrcoef(happiness_score, life_exp)"
   ]
  },
  {
   "cell_type": "markdown",
   "id": "7613bb56",
   "metadata": {
    "id": "7613bb56"
   },
   "source": [
    "## Covariance"
   ]
  },
  {
   "cell_type": "code",
   "execution_count": 34,
   "id": "c5c2345f",
   "metadata": {
    "id": "c5c2345f",
    "outputId": "f51207ad-c1dd-46d8-96e8-bc2022c8a624"
   },
   "outputs": [
    {
     "data": {
      "text/plain": [
       "array([[ 1.20644137,  5.43165829],\n",
       "       [ 5.43165829, 44.58201714]])"
      ]
     },
     "execution_count": 34,
     "metadata": {},
     "output_type": "execute_result"
    }
   ],
   "source": [
    "np.cov(happiness_score, life_exp)"
   ]
  },
  {
   "cell_type": "code",
   "execution_count": 35,
   "id": "86f22dc9",
   "metadata": {
    "id": "86f22dc9",
    "outputId": "259328ea-5ce9-49a9-8681-8c6c7d0a81ce"
   },
   "outputs": [
    {
     "data": {
      "text/plain": [
       "1.2064413714285713"
      ]
     },
     "execution_count": 35,
     "metadata": {},
     "output_type": "execute_result"
    }
   ],
   "source": [
    "stats.tvar(happiness_score)"
   ]
  },
  {
   "cell_type": "code",
   "execution_count": 36,
   "id": "a8a1ce09",
   "metadata": {
    "id": "a8a1ce09",
    "outputId": "374df55b-7b7e-4721-e78c-3b8dfd3f53ca"
   },
   "outputs": [
    {
     "data": {
      "text/plain": [
       "44.58201714285714"
      ]
     },
     "execution_count": 36,
     "metadata": {},
     "output_type": "execute_result"
    }
   ],
   "source": [
    "stats.tvar(life_exp)"
   ]
  },
  {
   "cell_type": "markdown",
   "id": "c5e466c3-1758-46de-9fd9-d4f57f5c161f",
   "metadata": {
    "id": "cb7bf003"
   },
   "source": [
    "REGRESSION\n"
   ]
  },
  {
   "cell_type": "code",
   "execution_count": 39,
   "id": "5d7b32de-82a8-4692-b76a-5223825c6a39",
   "metadata": {},
   "outputs": [],
   "source": [
    "y = np.array(life_exp) \n",
    "x = np.array(happiness_score)"
   ]
  },
  {
   "cell_type": "code",
   "execution_count": 42,
   "id": "3aeebdfd",
   "metadata": {
    "id": "3aeebdfd"
   },
   "outputs": [
    {
     "data": {
      "text/plain": [
       "LinregressResult(slope=4.502214872888972, intercept=39.76139068238348, rvalue=0.7406268830335517, pvalue=3.7073323489746655e-23, stderr=0.3668016053581123, intercept_stderr=2.0567606000317444)"
      ]
     },
     "execution_count": 42,
     "metadata": {},
     "output_type": "execute_result"
    }
   ],
   "source": [
    "result = stats.linregress(x,y)\n",
    "result"
   ]
  },
  {
   "cell_type": "code",
   "execution_count": null,
   "id": "58b67ccc-8d82-4469-b630-f4dfdb3c331a",
   "metadata": {},
   "outputs": [],
   "source": []
  }
 ],
 "metadata": {
  "colab": {
   "collapsed_sections": [],
   "name": "Statistics_Session-4.ipynb",
   "provenance": []
  },
  "kernelspec": {
   "display_name": "Python 3 (ipykernel)",
   "language": "python",
   "name": "python3"
  },
  "language_info": {
   "codemirror_mode": {
    "name": "ipython",
    "version": 3
   },
   "file_extension": ".py",
   "mimetype": "text/x-python",
   "name": "python",
   "nbconvert_exporter": "python",
   "pygments_lexer": "ipython3",
   "version": "3.9.7"
  }
 },
 "nbformat": 4,
 "nbformat_minor": 5
}
