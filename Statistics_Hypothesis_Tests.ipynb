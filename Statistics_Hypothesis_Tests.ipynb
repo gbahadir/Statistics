{
 "cells": [
  {
   "cell_type": "markdown",
   "id": "33de5ccf-3870-4d07-aa03-f4e380079a58",
   "metadata": {},
   "source": [
    "# Independent Samples T Test using SciPy"
   ]
  },
  {
   "cell_type": "markdown",
   "id": "6255f48a-f29a-41a0-80c3-e0c5eece939f",
   "metadata": {},
   "source": [
    "## Independent Samples T Test"
   ]
  },
  {
   "cell_type": "markdown",
   "id": "fb1a60e0-b874-4cf9-bf11-6ce5e7c5494b",
   "metadata": {},
   "source": [
    "To reach maximum efficiency in performing an assembly operation in a manufacturing plant, new employees require approximately a 1-month training period. A new method of training was suggested, and a test was conducted to compare the new method with the standard procedure. Two groups of nine new employees each were trained for a period of 3 weeks, one group using the new method and the other following the standard training procedure. The length of time (in minutes) required for each employee to assemble the device was recorded at the end of the 3-week period. The resulting measurements are as shown below in Table.\n",
    "#### Procedure\tMeasurements\n",
    "#### Standard\t32 37 35 28 41 44 35 31 34\n",
    "#### New\t35 31 29 25 34 40 27 32 31\n",
    "Is there sufficient evidence to indicate a difference in true mean assembly times for those trained using the two methods? Test at the α = .05 level of significance.\n",
    "\n",
    "We are testing H0:μ1=μ2 against the alternative Ha:μ1≠μ2= 0."
   ]
  },
  {
   "cell_type": "markdown",
   "id": "37cbc771-679b-4d5d-958a-ad37e10345d3",
   "metadata": {},
   "source": [
    "TR = Bir üretim tesisinde bir montaj işlemini gerçekleştirirken maksimum verimliliğe ulaşmak için yeni çalışanların yaklaşık 1 aylık bir eğitim süresi gerekir. Yeni bir eğitim yöntemi önerildi ve yeni yöntemi standart prosedürle karşılaştırmak için bir test yapıldı. Dokuz yeni çalışandan oluşan iki gruba, biri yeni yöntemle, diğeri standart eğitim prosedürü uygulanarak 3 haftalık bir süre boyunca eğitim verildi. 3 haftalık sürenin sonunda her bir çalışanın cihazı monte etmesi için gereken süre (dakika olarak) kaydedildi. Elde edilen ölçümler aşağıda Tablo'da gösterildiği gibidir.\n",
    "#### prosedür\tölçümler\n",
    "#### Standart\t32 37 35 28 41 44 35 31 34\n",
    "#### Yeni\t35 31 29 25 34 40 27 32 31\n",
    "İki yöntemi kullanarak eğitilmiş olanlar için gerçek ortalama montaj sürelerinde bir farkı belirtmek için yeterli kanıt var mı? α = .05 anlamlılık düzeyinde test edin.\n",
    "\n",
    "Test ediyoruz H0:μ1=μ2  karşı alternatif Ha:μ1≠μ2= 0."
   ]
  },
  {
   "cell_type": "code",
   "execution_count": 2,
   "id": "5312f84b-c43f-45b1-93be-9a6595adc13f",
   "metadata": {},
   "outputs": [],
   "source": [
    "import numpy as np\n",
    "from scipy import stats"
   ]
  },
  {
   "cell_type": "markdown",
   "id": "0d6fdb14-9634-4b0e-b303-9dacce19c6a0",
   "metadata": {},
   "source": [
    "Define two independent datasets (standard and new):"
   ]
  },
  {
   "cell_type": "code",
   "execution_count": 4,
   "id": "05496c83-dd0e-434e-8fb4-eb7488cf7da2",
   "metadata": {},
   "outputs": [
    {
     "name": "stdout",
     "output_type": "stream",
     "text": [
      "Standard Procedure: [32 37 35 28 41 44 35 31 34]\n",
      "New Procedure: [35 31 29 25 34 40 27 32 31]\n"
     ]
    }
   ],
   "source": [
    "standard = np.array([32, 37, 35, 28, 41, 44, 35, 31, 34])\n",
    "new = np.array([35, 31, 29, 25, 34, 40, 27, 32, 31])\n",
    "print(\"Standard Procedure:\", standard)\n",
    "print(\"New Procedure:\", new)"
   ]
  },
  {
   "cell_type": "markdown",
   "id": "3e06b1e0-64a4-4c55-8fd5-400471142a21",
   "metadata": {},
   "source": [
    "Calculate test statistics and p-value using stats.ttest_ind():"
   ]
  },
  {
   "cell_type": "code",
   "execution_count": 6,
   "id": "3a4b0c55-36d0-45b3-9681-0fec9ef4f1d1",
   "metadata": {},
   "outputs": [
    {
     "data": {
      "text/plain": [
       "Ttest_indResult(statistic=1.6494846165734016, pvalue=0.11853980248116995)"
      ]
     },
     "execution_count": 6,
     "metadata": {},
     "output_type": "execute_result"
    }
   ],
   "source": [
    "stats.ttest_ind(standard, new, equal_var=True, alternative='two-sided')   \n",
    "#assumes equal population variances"
   ]
  },
  {
   "cell_type": "markdown",
   "id": "e01dd90b-d0b9-422d-9483-38d5bc7fcd9b",
   "metadata": {},
   "source": [
    "Calculate test statistics and p-value using stats.ttest_ind_from_stats:"
   ]
  },
  {
   "cell_type": "code",
   "execution_count": 7,
   "id": "84573f81-e3b1-490e-bd3a-7cf66c5ecebc",
   "metadata": {},
   "outputs": [
    {
     "data": {
      "text/plain": [
       "Ttest_indResult(statistic=1.6494846165734016, pvalue=0.11853980248116995)"
      ]
     },
     "execution_count": 7,
     "metadata": {},
     "output_type": "execute_result"
    }
   ],
   "source": [
    "stats.ttest_ind_from_stats(mean1=np.mean(standard), \n",
    "                           std1=np.std(standard, ddof=1), \n",
    "                           nobs1=np.size(standard),\n",
    "                           mean2=np.mean(new)     , \n",
    "                           std2=np.std(new, ddof=1),      \n",
    "                           nobs2=np.size(new))"
   ]
  },
  {
   "cell_type": "markdown",
   "id": "1d3d8a06-baaf-4ac7-ad98-3d1349f41288",
   "metadata": {},
   "source": [
    "There is insufficient evidence to indicate a difference in the mean assembly times for the two training periods at the α = .05 level of significance."
   ]
  },
  {
   "cell_type": "code",
   "execution_count": null,
   "id": "3d348932-be8a-40ea-88bb-0616cf9db857",
   "metadata": {},
   "outputs": [],
   "source": []
  }
 ],
 "metadata": {
  "kernelspec": {
   "display_name": "Python 3 (ipykernel)",
   "language": "python",
   "name": "python3"
  },
  "language_info": {
   "codemirror_mode": {
    "name": "ipython",
    "version": 3
   },
   "file_extension": ".py",
   "mimetype": "text/x-python",
   "name": "python",
   "nbconvert_exporter": "python",
   "pygments_lexer": "ipython3",
   "version": "3.9.7"
  }
 },
 "nbformat": 4,
 "nbformat_minor": 5
}
