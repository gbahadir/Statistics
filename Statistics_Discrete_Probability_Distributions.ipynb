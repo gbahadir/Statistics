{
 "cells": [
  {
   "cell_type": "markdown",
   "id": "e5c0168e-9cae-4feb-ae7e-347a67f464e5",
   "metadata": {},
   "source": [
    "# Binomial Distribution Using Scipy\n",
    "binom object takes n and p as shape parameters, where n is the trial number and p is the probability of a single success."
   ]
  },
  {
   "cell_type": "markdown",
   "id": "03858b5a-8af6-468b-b1a6-f3fe90c77a03",
   "metadata": {},
   "source": [
    "### Random variates\n",
    "Generate random numbers:"
   ]
  },
  {
   "cell_type": "code",
   "execution_count": 1,
   "id": "5af1d078-369c-43e0-9a1b-73e9b708747f",
   "metadata": {},
   "outputs": [
    {
     "data": {
      "text/plain": [
       "array([3, 7, 5, 4, 2, 2, 2, 6, 4, 5])"
      ]
     },
     "execution_count": 1,
     "metadata": {},
     "output_type": "execute_result"
    }
   ],
   "source": [
    "from scipy import stats\n",
    "binomDist = stats.binom(n=10, p=0.4)\n",
    "binomDist.rvs(size=10, random_state=42)"
   ]
  },
  {
   "cell_type": "markdown",
   "id": "f1b35988-11ba-4268-b6fc-d585bf5bed42",
   "metadata": {},
   "source": [
    "### Probability mass function\n",
    "For binomail distribution, we can calculate the probability mass function (PMF) of a single number or a list of numbers.\n",
    "### Single number"
   ]
  },
  {
   "cell_type": "code",
   "execution_count": 2,
   "id": "e888b5bb-0374-4ae3-ab6b-4b7534cd77d4",
   "metadata": {},
   "outputs": [
    {
     "data": {
      "text/plain": [
       "0.21499084799999976"
      ]
     },
     "execution_count": 2,
     "metadata": {},
     "output_type": "execute_result"
    }
   ],
   "source": [
    "binomDist = stats.binom(n=10, p=0.4)\n",
    "binomDist.pmf(k=3)"
   ]
  },
  {
   "cell_type": "markdown",
   "id": "a2c5cb88-a0bb-4f46-a70b-cc5bf18edc46",
   "metadata": {},
   "source": [
    "### List of numbers"
   ]
  },
  {
   "cell_type": "code",
   "execution_count": 3,
   "id": "20e40f20-ce35-42a3-8507-26ee4c9c9ff4",
   "metadata": {},
   "outputs": [
    {
     "data": {
      "text/plain": [
       "array([0.04031078, 0.12093235, 0.21499085])"
      ]
     },
     "execution_count": 3,
     "metadata": {},
     "output_type": "execute_result"
    }
   ],
   "source": [
    "binomDist = stats.binom(n=10, p=0.4)\n",
    "binomDist.pmf(k=[1,2,3])"
   ]
  },
  {
   "cell_type": "markdown",
   "id": "ed7061a1-1f13-4381-ad83-4da9aabc6fc2",
   "metadata": {},
   "source": [
    "### Cumulative distribution function\n",
    "We use the cdf method to calculate the probability that the variable takes a value less than or equal to x."
   ]
  },
  {
   "cell_type": "code",
   "execution_count": 5,
   "id": "858fa5ce-f2b6-4848-aa93-f2c1313012e5",
   "metadata": {},
   "outputs": [
    {
     "data": {
      "text/plain": [
       "0.3822806015999999"
      ]
     },
     "execution_count": 5,
     "metadata": {},
     "output_type": "execute_result"
    }
   ],
   "source": [
    "binomDist = stats.binom(n=10, p=0.4)\n",
    "binomDist.cdf(3)"
   ]
  },
  {
   "cell_type": "markdown",
   "id": "e6221a37-9e21-44e9-a8a6-c0ac2473fee1",
   "metadata": {},
   "source": [
    "### PPF: Percent point function (inverse of cdf — percentiles)\n",
    "We use the ppf method to calculate the value x of the variable that has a given cumulative distribution probability (cdf)."
   ]
  },
  {
   "cell_type": "code",
   "execution_count": null,
   "id": "fede306d-eeea-40d5-a4d1-1486a06cf050",
   "metadata": {},
   "outputs": [],
   "source": [
    "binomDist = stats.binom(n=10, p=0.4)\n",
    "binomDist.ppf(0.3822806)"
   ]
  },
  {
   "cell_type": "markdown",
   "id": "b63fb4c3-d51d-42d3-b800-50f58b836688",
   "metadata": {},
   "source": [
    "### Statistics (mean, variance)\n",
    "We use the stats method to calculate the mean, variance, skewness, and/or kurtosis.\n",
    "\n"
   ]
  },
  {
   "cell_type": "code",
   "execution_count": 7,
   "id": "2c424f6f-9ad6-470b-8422-d05bdf04d5ba",
   "metadata": {},
   "outputs": [
    {
     "data": {
      "text/plain": [
       "(array(4.), array(2.4))"
      ]
     },
     "execution_count": 7,
     "metadata": {},
     "output_type": "execute_result"
    }
   ],
   "source": [
    "binomDist = stats.binom(n=10, p=0.4)\n",
    "binomDist.stats(moments='mv') # Mean(‘m’), variance(‘v’), skew(‘s’), and/or kurtosis(‘k’)"
   ]
  },
  {
   "cell_type": "markdown",
   "id": "ec039331-ba40-4261-9861-6bcec8ce34c4",
   "metadata": {},
   "source": [
    "# Poisson Distribution Using Scipy\n",
    "## Poisson Distribution\n",
    "poisson object takes mu as shape parameter, where mu is the success rate.\n",
    "\n",
    "### Random variates\n",
    "Generate random numbers:\n"
   ]
  },
  {
   "cell_type": "code",
   "execution_count": 8,
   "id": "645b0905-0f6c-4eaa-bc18-70644b447b55",
   "metadata": {},
   "outputs": [
    {
     "data": {
      "text/plain": [
       "array([5, 4, 4, 4, 2, 5, 2, 5, 3, 5])"
      ]
     },
     "execution_count": 8,
     "metadata": {},
     "output_type": "execute_result"
    }
   ],
   "source": [
    "from scipy import stats\n",
    "poissonDist = stats.poisson(mu=4)\n",
    "poissonDist.rvs(size=10, random_state=42)"
   ]
  },
  {
   "cell_type": "markdown",
   "id": "41b929d0-10f9-40bd-97ec-2621cfc9903c",
   "metadata": {},
   "source": [
    "### PMF : Probability mass function\n",
    "For poisson distribution, we can calculate the probability mass function (PMF) of a single number or a list of numbers.\n",
    "\n",
    "### Single number"
   ]
  },
  {
   "cell_type": "code",
   "execution_count": 9,
   "id": "f4731f53-fba2-4b68-a069-6c73a1d2cc57",
   "metadata": {},
   "outputs": [
    {
     "data": {
      "text/plain": [
       "0.19536681481316454"
      ]
     },
     "execution_count": 9,
     "metadata": {},
     "output_type": "execute_result"
    }
   ],
   "source": [
    "poissonDist = stats.poisson(mu=4)\n",
    "poissonDist.pmf(k=3)"
   ]
  },
  {
   "cell_type": "markdown",
   "id": "3eb32c67-6e9d-452b-bbcd-39f2e52dfdff",
   "metadata": {},
   "source": [
    "### List of numbers"
   ]
  },
  {
   "cell_type": "code",
   "execution_count": 10,
   "id": "d60d17cc-0de9-4f02-b952-11f80c077e31",
   "metadata": {},
   "outputs": [
    {
     "data": {
      "text/plain": [
       "array([0.07326256, 0.14652511, 0.19536681, 0.19536681, 0.15629345,\n",
       "       0.10419563, 0.05954036, 0.02977018])"
      ]
     },
     "execution_count": 10,
     "metadata": {},
     "output_type": "execute_result"
    }
   ],
   "source": [
    "poissonDist = stats.poisson(mu=4)\n",
    "poissonDist.pmf(k=[1,2,3,4,5,6,7,8])"
   ]
  },
  {
   "cell_type": "markdown",
   "id": "6d53a21b-f79f-4bc1-a50c-3f0f1554abba",
   "metadata": {},
   "source": [
    "### Cumulative distribution function\n",
    "We use the cdf method to calculate the probability that the variable takes a value less than or equal to x."
   ]
  },
  {
   "cell_type": "code",
   "execution_count": 11,
   "id": "e53f2236-e063-440c-9550-ccc2e5c1a7f0",
   "metadata": {},
   "outputs": [
    {
     "data": {
      "text/plain": [
       "0.43347012036670896"
      ]
     },
     "execution_count": 11,
     "metadata": {},
     "output_type": "execute_result"
    }
   ],
   "source": [
    "poissonDist = stats.poisson(mu=4)\n",
    "poissonDist.cdf(x=3)"
   ]
  },
  {
   "cell_type": "markdown",
   "id": "d44ab21c-00e6-4ebb-91d5-1b072e4bafb0",
   "metadata": {},
   "source": [
    "### PPF: Percent point function (inverse of cdf — percentiles)\n",
    "We use the ppf method to calculate the value x of the variable that has a given cumulative distribution probability (cdf)."
   ]
  },
  {
   "cell_type": "code",
   "execution_count": 13,
   "id": "6ace9496-4de4-4ef8-88cc-f559c0845ae7",
   "metadata": {},
   "outputs": [
    {
     "data": {
      "text/plain": [
       "3.0"
      ]
     },
     "execution_count": 13,
     "metadata": {},
     "output_type": "execute_result"
    }
   ],
   "source": [
    "poissonDist = stats.poisson(mu=4)\n",
    "poissonDist.ppf(q=0.43347)"
   ]
  },
  {
   "cell_type": "markdown",
   "id": "c2b51a81-cdc6-4aa5-89cc-fb7762d1a2c4",
   "metadata": {},
   "source": [
    "### Statistics (mean, variance, skewness, kurtosis)\n",
    "We use the stats method to calculate the mean, variance, skewness, and/or kurtosis."
   ]
  },
  {
   "cell_type": "code",
   "execution_count": 14,
   "id": "8bff37ce-5c30-4a1c-adbf-a483144ac462",
   "metadata": {},
   "outputs": [
    {
     "data": {
      "text/plain": [
       "(array(4.), array(4.), array(0.5), array(0.25))"
      ]
     },
     "execution_count": 14,
     "metadata": {},
     "output_type": "execute_result"
    }
   ],
   "source": [
    "poissonDist = stats.poisson(mu=4)\n",
    "poissonDist.stats(moments='mvsk') #Mean(‘m’), variance(‘v’), skew(‘s’), and/or kurtosis(‘k’)"
   ]
  },
  {
   "cell_type": "markdown",
   "id": "8014c3f1-1bd9-4dee-9067-23b05c02c7ce",
   "metadata": {},
   "source": [
    "# Normal Distribution Using Scipy"
   ]
  },
  {
   "cell_type": "markdown",
   "id": "f3a2efb5-e10c-46d7-bebc-00b6876a6707",
   "metadata": {},
   "source": [
    "## Normal Distribution\n",
    "norm object takes loc and scale as parameters, where loc is the mean and scale is the standard deviation.\n",
    "\n",
    "### Random variates\n",
    "Generate random numbers using \"standardized\" form:"
   ]
  },
  {
   "cell_type": "code",
   "execution_count": 15,
   "id": "260e6041-2cdf-4177-909b-56cd2b5e9b2f",
   "metadata": {},
   "outputs": [
    {
     "data": {
      "text/plain": [
       "array([ 0.49671415, -0.1382643 ,  0.64768854,  1.52302986, -0.23415337,\n",
       "       -0.23413696,  1.57921282,  0.76743473, -0.46947439,  0.54256004])"
      ]
     },
     "execution_count": 15,
     "metadata": {},
     "output_type": "execute_result"
    }
   ],
   "source": [
    "from scipy import stats\n",
    "stats.norm.rvs(size=10, random_state=42)"
   ]
  },
  {
   "cell_type": "markdown",
   "id": "07891353-b0c4-4526-8e70-277f3581dd82",
   "metadata": {},
   "source": [
    "Generate random numbers using the loc and scale parameters:"
   ]
  },
  {
   "cell_type": "code",
   "execution_count": 19,
   "id": "c49a1a45-d83d-49c2-9256-52d7af758cde",
   "metadata": {},
   "outputs": [
    {
     "data": {
      "text/plain": [
       "array([54.96714153, 48.61735699, 56.47688538, 65.23029856, 47.65846625,\n",
       "       47.65863043, 65.79212816, 57.67434729, 45.30525614, 55.42560044])"
      ]
     },
     "execution_count": 19,
     "metadata": {},
     "output_type": "execute_result"
    }
   ],
   "source": [
    "normDist = stats.norm(loc=50, scale=10)  # loc: mean, scale: Standart deviation\n",
    "normDist.rvs(size=10, random_state=42)"
   ]
  },
  {
   "cell_type": "markdown",
   "id": "4c97c2cd-ea8c-4864-bc8d-15d2e765f5f1",
   "metadata": {},
   "source": [
    "### Probability distribution function\n",
    "We use the pdf method to to generate the Probability Distribution Function (PDF) value of the given observations:\n",
    "### Single number"
   ]
  },
  {
   "cell_type": "code",
   "execution_count": 17,
   "id": "2ee45adb-0332-4d96-bd97-b3f547755089",
   "metadata": {},
   "outputs": [
    {
     "data": {
      "text/plain": [
       "0.024197072451914336"
      ]
     },
     "execution_count": 17,
     "metadata": {},
     "output_type": "execute_result"
    }
   ],
   "source": [
    "normDist = stats.norm(loc=50, scale=10)\n",
    "normDist.pdf(x=40)"
   ]
  },
  {
   "cell_type": "markdown",
   "id": "946af31d-c7a1-4f0c-9f56-38b053af9f2b",
   "metadata": {},
   "source": [
    "### List of numbers"
   ]
  },
  {
   "cell_type": "code",
   "execution_count": 18,
   "id": "31430d19-fa71-4148-883f-9c93d92a38b7",
   "metadata": {},
   "outputs": [
    {
     "data": {
      "text/plain": [
       "array([0.02419707, 0.03989423, 0.02419707])"
      ]
     },
     "execution_count": 18,
     "metadata": {},
     "output_type": "execute_result"
    }
   ],
   "source": [
    "normDist = stats.norm(loc=50, scale=10)\n",
    "normDist.pdf(x=[40,50,60])"
   ]
  },
  {
   "cell_type": "markdown",
   "id": "d98badd5-5714-41a0-b487-7486cf166ffa",
   "metadata": {},
   "source": [
    "### Cumulative distribution function\n",
    "We use the cdf method to calculate the probability that the variable takes a value less than or equal to x."
   ]
  },
  {
   "cell_type": "code",
   "execution_count": 20,
   "id": "a4dee836-9d9d-47a8-a578-0f5765f5e6e4",
   "metadata": {},
   "outputs": [
    {
     "data": {
      "text/plain": [
       "0.15865525393145707"
      ]
     },
     "execution_count": 20,
     "metadata": {},
     "output_type": "execute_result"
    }
   ],
   "source": [
    "normDist = stats.norm(loc=50, scale=10)\n",
    "normDist.cdf(x=40)"
   ]
  },
  {
   "cell_type": "markdown",
   "id": "153f94c7-b64d-4045-878d-373237c62650",
   "metadata": {},
   "source": [
    "### Percent point function (inverse of cdf — percentiles)\n",
    "We use the ppf method to calculate the value x of the variable that has a given cumulative distribution probability (cdf)."
   ]
  },
  {
   "cell_type": "code",
   "execution_count": 21,
   "id": "b7e6e1b3-ddaa-40a7-8c4e-72e1b2744a99",
   "metadata": {},
   "outputs": [
    {
     "data": {
      "text/plain": [
       "62.815515655446006"
      ]
     },
     "execution_count": 21,
     "metadata": {},
     "output_type": "execute_result"
    }
   ],
   "source": [
    "normDist = stats.norm(loc=50, scale=10)\n",
    "normDist.ppf(q=0.9)"
   ]
  },
  {
   "cell_type": "markdown",
   "id": "bd1d1ef5-2698-4bb4-a96c-5b195b6d6d2c",
   "metadata": {},
   "source": [
    "### Statistics (mean, variance, skewness, kurtosis)\n",
    "We use the stats method to calculate the mean, variance, skewness, and/or kurtosis."
   ]
  },
  {
   "cell_type": "code",
   "execution_count": 22,
   "id": "3669a0b8-6a5b-4e51-91c6-1c2f43596c6c",
   "metadata": {},
   "outputs": [
    {
     "data": {
      "text/plain": [
       "(array(50.), array(100.), array(0.), array(0.))"
      ]
     },
     "execution_count": 22,
     "metadata": {},
     "output_type": "execute_result"
    }
   ],
   "source": [
    "normDist = stats.norm(loc=50, scale=10)\n",
    "normDist.stats(moments='mvsk') #Mean(‘m’), variance(‘v’), skew(‘s’), and/or kurtosis(‘k’)"
   ]
  },
  {
   "cell_type": "markdown",
   "id": "1915a483-b8bc-4bdd-b58d-b9d1c3bcd499",
   "metadata": {},
   "source": [
    "## t distribution\n",
    "The t distribution (or Student’s t Distribution) is a family of distributions that look very similar to the normal distribution curve, only a bit shorter and fatter. The t distribution is used to estimate population parameters when the sample size is small and/or when the population standard deviation (σ) is unknown.\n",
    "\n",
    "The larger the sample size, the more the t distribution approaches the normal distribution. For sample sizes larger than 30, the distribution is very similar to the normal distribution.\n"
   ]
  },
  {
   "cell_type": "markdown",
   "id": "849f22c7-213f-4122-b5f0-c15846e206a9",
   "metadata": {},
   "source": [
    "## Large Sample or Population Variance Known\n",
    "### When working with large samples (n≥30), we can assume that the sampling distribution of the sample mean is approximately normally distributed (thanks to the Central Limit Theorem). In this case, we can calculate the confidence interval for the mean using the stats.norm.interval() function in Scipy.\n",
    "\n",
    "Define a sample dataset (exam grades for a class of 40 students):"
   ]
  },
  {
   "cell_type": "code",
   "execution_count": 1,
   "id": "59d9e60a-c4da-4ec7-bcd2-feffcea0143d",
   "metadata": {},
   "outputs": [
    {
     "name": "stdout",
     "output_type": "stream",
     "text": [
      "[51 92 14 71 60 20 82 86 74 74 87 99 23  2 21 52  1 87 29 37  1 63 59 20\n",
      " 32 75 57 21 88 48 90 58 41 91 59 79 14 61 61 46]\n"
     ]
    }
   ],
   "source": [
    "import numpy as np\n",
    "from scipy import stats\n",
    "np.random.seed(42)\n",
    "grades = np.random.randint(100, size = 40)\n",
    "print(grades)"
   ]
  },
  {
   "cell_type": "markdown",
   "id": "dbc342c8-573c-46ab-b8de-27431c060320",
   "metadata": {},
   "source": [
    "### Calculate the sample mean:"
   ]
  },
  {
   "cell_type": "code",
   "execution_count": 2,
   "id": "d7c65a6d-beb2-4c1c-90e1-33ab7199cc53",
   "metadata": {},
   "outputs": [
    {
     "name": "stdout",
     "output_type": "stream",
     "text": [
      "53.15\n"
     ]
    }
   ],
   "source": [
    "xbar = np.mean(grades)\n",
    "print(xbar)"
   ]
  },
  {
   "cell_type": "markdown",
   "id": "4e97aa30-007b-40ee-8470-98fa8a2893dc",
   "metadata": {},
   "source": [
    "### Calculate standart error of the mean:"
   ]
  },
  {
   "cell_type": "code",
   "execution_count": 3,
   "id": "d9a555bb-d66f-43f3-8399-df5be6f76d30",
   "metadata": {},
   "outputs": [
    {
     "name": "stdout",
     "output_type": "stream",
     "text": [
      "4.427188724235731\n"
     ]
    }
   ],
   "source": [
    "n = len(grades)            #sample size\n",
    "sigma = 28                 #population standard deviation (from past experiences)\n",
    "sem = sigma / np.sqrt(n)   #standard error of the mean\n",
    "print(sem)"
   ]
  },
  {
   "cell_type": "markdown",
   "id": "79248c89-345a-4bbd-845e-4bafaf45af80",
   "metadata": {},
   "source": [
    "### Calculate 95% Confidence Interval around the mean by using scipy.stats:"
   ]
  },
  {
   "cell_type": "code",
   "execution_count": 4,
   "id": "56bd12ea-3e2b-4507-a706-aa3f396f9f8e",
   "metadata": {},
   "outputs": [
    {
     "data": {
      "text/plain": [
       "(44.47286954773614, 61.82713045226386)"
      ]
     },
     "execution_count": 4,
     "metadata": {},
     "output_type": "execute_result"
    }
   ],
   "source": [
    "stats.norm.interval(alpha=0.95, loc=xbar, scale=sem)"
   ]
  },
  {
   "cell_type": "markdown",
   "id": "63886a04-4895-41a2-8fdc-23e1c2c361f9",
   "metadata": {},
   "source": [
    "## Population Variance Unknown\n",
    "### Where the population standard deviation σ is unknown, the sample standard deviation s is used. This introduces extra uncertainty, as s varies from sample to sample. So, the t distribution is used instead of the normal distribution. In this case, we can calculate the confidence interval for the mean using the stats.t.interval() function in Scipy.\n",
    "### Define a sample dataset (exam grades for a class of 20 students):"
   ]
  },
  {
   "cell_type": "code",
   "execution_count": 5,
   "id": "aa8c1a2f-e3d4-4747-9a84-7760162ac2ac",
   "metadata": {},
   "outputs": [
    {
     "name": "stdout",
     "output_type": "stream",
     "text": [
      "[95 11 81 70 63 87 75  9 77 40  4 63 40 60 92 64  5 12 93 40]\n"
     ]
    }
   ],
   "source": [
    "np.random.seed(101)\n",
    "grades = np.random.randint(100, size = 20)\n",
    "print(grades)"
   ]
  },
  {
   "cell_type": "markdown",
   "id": "ff19bab3-0dc9-46a0-86f0-6e8a0d49a446",
   "metadata": {},
   "source": [
    "### Calculate 95% Confidence Interval around the mean by using scipy.stats:"
   ]
  },
  {
   "cell_type": "code",
   "execution_count": 6,
   "id": "65ba81f0-6dde-4f71-afd2-7011d5517aed",
   "metadata": {},
   "outputs": [
    {
     "data": {
      "text/plain": [
       "(39.205382746648176, 68.89461725335181)"
      ]
     },
     "execution_count": 6,
     "metadata": {},
     "output_type": "execute_result"
    }
   ],
   "source": [
    "stats.t.interval(alpha=0.95,              #confidence level\n",
    "                 df=np.size(grades)-1,    #degrees of freedom\n",
    "                 loc=np.mean(grades),     #sample mean\n",
    "                 scale=stats.sem(grades)  #standard error of the mean\n",
    ")"
   ]
  },
  {
   "cell_type": "markdown",
   "id": "3b25745a-9562-4d40-a519-de5d3c0df4c4",
   "metadata": {},
   "source": [
    "### 💡t Distribution\n",
    "t is more spread out than z. It is \"flatter\" than normal. This is because the use of s introduces more uncertainty, making t \"sloppier\" than z.\n",
    "The amount of spread depends on the sample size. The greater the sample size, the more confident we can be that s is near σ, and the closer t gets to z, the normal.\n",
    "Degrees of freedom (dof or d.f.): Given n pieces of data, you use up one \"degree of freedom\" when you compute x̄, leaving n-1 independent pieces of information.\n",
    "### As the degrees of freedom (n-1) increases, the t-distribution will get closer to the standard normal distribution (z-distribution)."
   ]
  },
  {
   "cell_type": "code",
   "execution_count": 7,
   "id": "236995b2-d230-4e50-b798-f1227167bc37",
   "metadata": {},
   "outputs": [
    {
     "data": {
      "image/png": "[encoded data removed]",
      "text/plain": [
       "<Figure size 576x432 with 1 Axes>"
      ]
     },
     "metadata": {
      "needs_background": "light"
     },
     "output_type": "display_data"
    }
   ],
   "source": [
    "import numpy as np\n",
    "import matplotlib.pyplot as plt\n",
    "\n",
    "plt.figure(figsize=(8,6))\n",
    "xs = np.linspace(-5,5,1000)\n",
    "\n",
    "plt.plot(xs, stats.t.pdf(xs, 1), \"b\", label=\"t (df=1)\")\n",
    "plt.plot(xs, stats.t.pdf(xs, 3), \"g\", label=\"t (df=3)\")\n",
    "plt.plot(xs, stats.t.pdf(xs, 8), \"c\", label=\"t (df=8)\")\n",
    "plt.plot(xs, stats.t.pdf(xs, 15), \"m\", label=\"t (df=15)\")\n",
    "plt.plot(xs, stats.norm.pdf(xs), \"k\", label=\"Normal\")\n",
    "plt.legend()\n",
    "plt.show();"
   ]
  },
  {
   "cell_type": "code",
   "execution_count": null,
   "id": "dfed63aa-7f12-4835-ac76-ae0ddd72dcc9",
   "metadata": {},
   "outputs": [],
   "source": []
  }
 ],
 "metadata": {
  "kernelspec": {
   "display_name": "Python 3 (ipykernel)",
   "language": "python",
   "name": "python3"
  },
  "language_info": {
   "codemirror_mode": {
    "name": "ipython",
    "version": 3
   },
   "file_extension": ".py",
   "mimetype": "text/x-python",
   "name": "python",
   "nbconvert_exporter": "python",
   "pygments_lexer": "ipython3",
   "version": "3.9.7"
  }
 },
 "nbformat": 4,
 "nbformat_minor": 5
}
